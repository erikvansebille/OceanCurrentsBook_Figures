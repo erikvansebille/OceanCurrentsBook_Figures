{
 "cells": [
  {
   "cell_type": "code",
   "execution_count": 1,
   "metadata": {},
   "outputs": [
    {
     "name": "stdout",
     "output_type": "stream",
     "text": [
      "Populating the interactive namespace from numpy and matplotlib\n"
     ]
    }
   ],
   "source": [
    "%pylab inline\n",
    "import numpy as np\n",
    "import xarray as xr\n",
    "import matplotlib.pyplot as plt\n",
    "import cartopy\n",
    "from cartopy.mpl.gridliner import LONGITUDE_FORMATTER, LATITUDE_FORMATTER\n",
    "from cartopy.util import add_cyclic_point\n",
    "import matplotlib.gridspec as gridspec\n",
    "import matplotlib.patches as mpatches\n",
    "import matplotlib.path as mpath\n",
    "import matplotlib.ticker as mticker\n",
    "from matplotlib.patches import Polygon\n",
    "import cmocean.cm as cmo\n",
    "import gsw"
   ]
  },
  {
   "cell_type": "code",
   "execution_count": 2,
   "metadata": {},
   "outputs": [],
   "source": [
    "import matlab.engine\n",
    "eng = matlab.engine.start_matlab()\n",
    "\n",
    "datadir = '/Users/erik/Desktop/'"
   ]
  },
  {
   "cell_type": "code",
   "execution_count": 3,
   "metadata": {},
   "outputs": [
    {
     "name": "stderr",
     "output_type": "stream",
     "text": [
      "/Users/erik/anaconda3/envs/py3_parcels/lib/python3.6/site-packages/dask/array/numpy_compat.py:40: RuntimeWarning: invalid value encountered in true_divide\n",
      "  x = np.divide(x1, x2, out)\n",
      "/Users/erik/anaconda3/envs/py3_parcels/lib/python3.6/site-packages/dask/array/numpy_compat.py:40: RuntimeWarning: invalid value encountered in true_divide\n",
      "  x = np.divide(x1, x2, out)\n"
     ]
    }
   ],
   "source": [
    "T = xr.open_mfdataset(datadir+'GODAS/pottmp*', combine='by_coords').pottmp.sel(lat=slice(-90, -30)).groupby('time.month').mean(\"time\").sel(month=10)\n",
    "S = xr.open_mfdataset(datadir+'GODAS/salt*', combine='by_coords').salt.sel(lat=slice(-90, -30)).groupby('time.month').mean(\"time\").sel(month=10)\n",
    "\n",
    "tempA = np.array(T-273.15, dtype=np.float32)\n",
    "saltA = np.array(S*1000, dtype=np.float32)"
   ]
  },
  {
   "cell_type": "code",
   "execution_count": 4,
   "metadata": {},
   "outputs": [],
   "source": [
    "dens = np.zeros((tempA.shape[0], tempA.shape[1]*tempA.shape[2]))\n",
    "lat, lon = np.meshgrid(T.lat, T.lon)\n",
    "lat = lat.flatten().tolist()\n",
    "lon = lon.flatten().tolist()\n",
    "for z in range(tempA.shape[0]):\n",
    "    tempL = tempA[z, :, :].flatten().tolist()\n",
    "    saltL = saltA[z, :, :].flatten().tolist()\n",
    "    pres = float(T.level[z])\n",
    "\n",
    "    for i in range(len(tempL)):\n",
    "        dens[z, i] = eng.eos80_legacy_gamma_n(saltL[i], tempL[i], pres, lon[i], lat[i])"
   ]
  },
  {
   "cell_type": "code",
   "execution_count": 5,
   "metadata": {},
   "outputs": [],
   "source": [
    "np.save(datadir+'GODAS/gamman', dens)"
   ]
  },
  {
   "cell_type": "code",
   "execution_count": null,
   "metadata": {},
   "outputs": [],
   "source": []
  }
 ],
 "metadata": {
  "kernelspec": {
   "display_name": "Python 3",
   "language": "python",
   "name": "python3"
  },
  "language_info": {
   "codemirror_mode": {
    "name": "ipython",
    "version": 3
   },
   "file_extension": ".py",
   "mimetype": "text/x-python",
   "name": "python",
   "nbconvert_exporter": "python",
   "pygments_lexer": "ipython3",
   "version": "3.6.10"
  }
 },
 "nbformat": 4,
 "nbformat_minor": 4
}
